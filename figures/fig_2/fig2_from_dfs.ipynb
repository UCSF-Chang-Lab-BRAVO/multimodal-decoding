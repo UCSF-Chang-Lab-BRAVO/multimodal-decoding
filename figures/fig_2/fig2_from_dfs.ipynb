{
 "cells": [
  {
   "cell_type": "code",
   "execution_count": 1,
   "metadata": {},
   "outputs": [],
   "source": [
    "# This code should load the dataframe and get corresponding results"
   ]
  },
  {
   "cell_type": "code",
   "execution_count": 2,
   "metadata": {},
   "outputs": [],
   "source": [
    "import matplotlib.pyplot as plt\n",
    "import seaborn as sns\n",
    "import statannot\n",
    "from brokenaxes import brokenaxes\n",
    "plt.rcParams['pdf.fonttype']=42"
   ]
  },
  {
   "cell_type": "code",
   "execution_count": 3,
   "metadata": {},
   "outputs": [],
   "source": [
    "import pandas as pd"
   ]
  },
  {
   "cell_type": "code",
   "execution_count": 4,
   "metadata": {},
   "outputs": [
    {
     "data": {
      "text/plain": [
       "<Figure size 1200x1600 with 0 Axes>"
      ]
     },
     "metadata": {},
     "output_type": "display_data"
    }
   ],
   "source": [
    "# Set up plotting\n",
    "\n",
    "import matplotlib.pyplot as plt\n",
    "from matplotlib.gridspec import GridSpec\n",
    "lets = list('bcdefghijklmnopqrstuv')\n",
    "def format_axes(fig):\n",
    "    for i, ax in enumerate(fig.axes):\n",
    "        ax.text(-.1, 1.1, lets[i], weight='bold', transform=ax.transAxes)\n",
    "        # ax.tick_params(labelbottom=False, labelleft=False)\n",
    "\n",
    "fig = plt.figure(constrained_layout=True, figsize=(12, 16))\n",
    "gs = GridSpec(3, 9, figure=fig)\n",
    "plt.rcParams['font.family'] = 'Arial'"
   ]
  },
  {
   "cell_type": "code",
   "execution_count": 5,
   "metadata": {},
   "outputs": [],
   "source": [
    "import numpy as np"
   ]
  },
  {
   "cell_type": "code",
   "execution_count": 6,
   "metadata": {},
   "outputs": [],
   "source": [
    "np.random.seed(1337) # Set random seed."
   ]
  },
  {
   "cell_type": "code",
   "execution_count": 7,
   "metadata": {},
   "outputs": [],
   "source": [
    "def bootstrap(x, lengths=None, B=2000, metric=np.mean, multlens=False):\n",
    "    \"\"\"\n",
    "    Bootstrap function\n",
    "    \n",
    "    x = list of error rates\n",
    "    lengths = what the length of each sentence is if you're doing wer\n",
    "    B = number of samples to draw\n",
    "    metric = function to use. if lengths is not None, then only mean is calculated\n",
    "    multlens = multiply list of error rates by their lengths, otherwise just take the mean. \n",
    "    \"\"\"\n",
    "    dist = []\n",
    "    if lengths is None: \n",
    "        for _ in range(B):\n",
    "            inds = np.random.choice(np.arange(len(x)), size=len(x), replace=True)\n",
    "            x_=x[inds]\n",
    "            dist.append(metric(x_))\n",
    "    else: \n",
    "        for _ in range(B):\n",
    "            inds = np.random.choice(np.arange(len(x)), size=len(x), replace=True)\n",
    "            x_ = x[inds]\n",
    "            ls = lengths[inds]\n",
    "            if multlens: \n",
    "                dist.append(np.nansum(x_*ls)/np.nansum(ls))\n",
    "            else: \n",
    "                \n",
    "                dist.append(np.nansum(x_)/np.nansum(ls))\n",
    "   \n",
    "    return dist\n",
    "\n",
    "\n",
    "def parceled_error_rates(vals, lengths=None, metric=np.mean, parcelation=10):\n",
    "\n",
    "    \"\"\"\n",
    "    Calculate error rates in blocks of 10\n",
    "    Has the case for nan - e.g. for the one trial that was discarded, since it was\n",
    "    present in the training data by accident. \n",
    "    \n",
    "    If the length of the list is larger than half the parcelation size, we allow it to be \n",
    "    used as a block. In practice this was not used for this paper.\n",
    "    \"\"\"\n",
    "    dist = []\n",
    "    cur_list = []\n",
    "    cur_lengths = []\n",
    "    if lengths is None: \n",
    "        lengths = np.ones((len(vals)))\n",
    "    for k, x in enumerate(vals):\n",
    "        cur_list.append(x)\n",
    "        if pd.isna(x): \n",
    "            cur_lengths.append(np.nan)\n",
    "        else: \n",
    "            cur_lengths.append(lengths[k])\n",
    "        if (k+1)%parcelation == 0: \n",
    "            dist.append(np.nansum(np.array(cur_list)*np.array(cur_lengths))/np.nansum(np.array(cur_lengths)))\n",
    "            cur_list = []\n",
    "            cur_lengths = []\n",
    "    if len(cur_list) > parcelation/2: \n",
    "        dist.append(np.nansum(np.array(cur_list)*np.array(cur_lengths))/np.nansum(np.array(cur_lengths)))\n",
    "    return np.array(dist)\n",
    "        \n",
    "def return_distribution(lom, lengths=None, metric=np.mean):\n",
    "    \"\"\"\n",
    "    Input : list of metrics - basically just like a list, we want to change it to be median and stuff. \n",
    "    \"\"\"\n",
    "    return parceled_error_rates(lom, lengths)\n",
    "\n",
    "def pseudoblock(values, metric,  lengths_df =None, lengths=None):\n",
    "    \"\"\"\n",
    "    Get the corresponding length from length dataframe to calculate the pseudoblock-wise metric. \n",
    "    The length dataframe has the ground truth sent, ground truth phones, \n",
    "    and corresponding lengths in number of words, chars, and phones. \n",
    "    \n",
    "    Note single-trial PER ignored the first silence token to avoid artificially inflating performance. \n",
    "    \"\"\"\n",
    "    if lengths is None: \n",
    "        metric = metric.lower()\n",
    "        if metric == \"WER\".lower():\n",
    "            lengths = lengths_df['word'].values\n",
    "        elif metric == 'CER'.lower():\n",
    "            lengths = lengths_df['chars'].values\n",
    "        elif metric =='PER'.lower():\n",
    "            lengths = lengths_df['phones'].values\n",
    "        else: \n",
    "            print('no metric')\n",
    "            lengths = np.ones(len(values)) # Using this instead of lengths just averages.\n",
    "    return return_distribution(values, np.array(lengths))\n",
    "\n",
    "lengths_df = pd.read_hdf('./ground_truth_lengths.h5')"
   ]
  },
  {
   "cell_type": "code",
   "execution_count": 8,
   "metadata": {},
   "outputs": [],
   "source": [
    "import matplotlib as mpl\n",
    "def plotting_defaults(font='Arial', fontsize=11, linewidth=1):\n",
    "    # Set some plotting colors and styles\n",
    "    mpl.rcParams.update({'font.size': fontsize})\n",
    "    # mpl.rcParams['font.sans-serif'] = [font]\n",
    "    mpl.rcParams['axes.spines.top'] = False\n",
    "    mpl.rcParams['axes.spines.right'] = False\n",
    "    mpl.rcParams['xtick.major.size'] = 5\n",
    "    mpl.rcParams['xtick.major.width'] = linewidth\n",
    "    mpl.rcParams['ytick.major.size'] = 5\n",
    "    mpl.rcParams['ytick.major.width'] = linewidth\n",
    "    mpl.rcParams['lines.linewidth'] = linewidth\n",
    "    mpl.rcParams['axes.linewidth'] = linewidth\n",
    "\n",
    "plotting_defaults()"
   ]
  },
  {
   "cell_type": "code",
   "execution_count": 9,
   "metadata": {},
   "outputs": [],
   "source": [
    "sns.set_palette('Set2')"
   ]
  },
  {
   "cell_type": "code",
   "execution_count": 10,
   "metadata": {},
   "outputs": [],
   "source": [
    "def translate_labels(df):\n",
    "    \"\"\"\n",
    "    Make the labels look good.\n",
    "    \"\"\"\n",
    "    conds = df['Condition'].values\n",
    "    newconds = []\n",
    "    for c in conds: \n",
    "        if c == 'No beam, no LM':\n",
    "            c = 'Neural\\ndecoding\\nonly'\n",
    "        elif c =='No LM':\n",
    "            c = '+Beam\\nsearch\\n& lexicon'\n",
    "        elif c == 'Realtime results':\n",
    "            c = 'Real-time\\nresults'\n",
    "        newconds.append(c)\n",
    "    df['Condition'] = newconds\n",
    "    return df"
   ]
  },
  {
   "cell_type": "code",
   "execution_count": 11,
   "metadata": {},
   "outputs": [
    {
     "data": {
      "text/html": [
       "<div>\n",
       "<style scoped>\n",
       "    .dataframe tbody tr th:only-of-type {\n",
       "        vertical-align: middle;\n",
       "    }\n",
       "\n",
       "    .dataframe tbody tr th {\n",
       "        vertical-align: top;\n",
       "    }\n",
       "\n",
       "    .dataframe thead th {\n",
       "        text-align: right;\n",
       "    }\n",
       "</style>\n",
       "<table border=\"1\" class=\"dataframe\">\n",
       "  <thead>\n",
       "    <tr style=\"text-align: right;\">\n",
       "      <th></th>\n",
       "      <th>Condition</th>\n",
       "      <th>WER</th>\n",
       "      <th>CER</th>\n",
       "      <th>PER</th>\n",
       "      <th>gts</th>\n",
       "      <th>trans</th>\n",
       "      <th>gtphs</th>\n",
       "    </tr>\n",
       "  </thead>\n",
       "  <tbody>\n",
       "    <tr>\n",
       "      <th>0</th>\n",
       "      <td>Realtime results</td>\n",
       "      <td>0.166667</td>\n",
       "      <td>0.137931</td>\n",
       "      <td>0.160000</td>\n",
       "      <td>just look at all those people</td>\n",
       "      <td>she look at all those people</td>\n",
       "      <td>[|, JH, AH, S, T, |, L, UH, K, |, AE, T, |, AO...</td>\n",
       "    </tr>\n",
       "    <tr>\n",
       "      <th>1</th>\n",
       "      <td>Realtime results</td>\n",
       "      <td>0.000000</td>\n",
       "      <td>0.000000</td>\n",
       "      <td>0.000000</td>\n",
       "      <td>i will see what i can do</td>\n",
       "      <td>i will see what i can do</td>\n",
       "      <td>[|, AY, |, W, IH, L, |, S, IY, |, W, AH, T, |,...</td>\n",
       "    </tr>\n",
       "    <tr>\n",
       "      <th>2</th>\n",
       "      <td>Realtime results</td>\n",
       "      <td>0.571429</td>\n",
       "      <td>0.482759</td>\n",
       "      <td>0.423077</td>\n",
       "      <td>only when i give you an order</td>\n",
       "      <td>only when i could be a boy</td>\n",
       "      <td>[|, OW, N, L, IY, |, W, EH, N, |, AY, |, G, IH...</td>\n",
       "    </tr>\n",
       "    <tr>\n",
       "      <th>3</th>\n",
       "      <td>Realtime results</td>\n",
       "      <td>0.000000</td>\n",
       "      <td>0.000000</td>\n",
       "      <td>0.000000</td>\n",
       "      <td>i just got out here</td>\n",
       "      <td>i just got out here</td>\n",
       "      <td>[|, AY, |, JH, AH, S, T, |, G, AA, T, |, AW, T...</td>\n",
       "    </tr>\n",
       "    <tr>\n",
       "      <th>4</th>\n",
       "      <td>Realtime results</td>\n",
       "      <td>0.666667</td>\n",
       "      <td>0.633333</td>\n",
       "      <td>0.629630</td>\n",
       "      <td>if anything ever happens to me</td>\n",
       "      <td>i have to me</td>\n",
       "      <td>[|, IH, F, |, EH, N, IY, TH, IH, NG, |, EH, V,...</td>\n",
       "    </tr>\n",
       "  </tbody>\n",
       "</table>\n",
       "</div>"
      ],
      "text/plain": [
       "          Condition       WER       CER       PER  \\\n",
       "0  Realtime results  0.166667  0.137931  0.160000   \n",
       "1  Realtime results  0.000000  0.000000  0.000000   \n",
       "2  Realtime results  0.571429  0.482759  0.423077   \n",
       "3  Realtime results  0.000000  0.000000  0.000000   \n",
       "4  Realtime results  0.666667  0.633333  0.629630   \n",
       "\n",
       "                              gts                         trans  \\\n",
       "0   just look at all those people  she look at all those people   \n",
       "1        i will see what i can do      i will see what i can do   \n",
       "2   only when i give you an order    only when i could be a boy   \n",
       "3             i just got out here           i just got out here   \n",
       "4  if anything ever happens to me                  i have to me   \n",
       "\n",
       "                                               gtphs  \n",
       "0  [|, JH, AH, S, T, |, L, UH, K, |, AE, T, |, AO...  \n",
       "1  [|, AY, |, W, IH, L, |, S, IY, |, W, AH, T, |,...  \n",
       "2  [|, OW, N, L, IY, |, W, EH, N, |, AY, |, G, IH...  \n",
       "3  [|, AY, |, JH, AH, S, T, |, G, AA, T, |, AW, T...  \n",
       "4  [|, IH, F, |, EH, N, IY, TH, IH, NG, |, EH, V,...  "
      ]
     },
     "execution_count": 11,
     "metadata": {},
     "output_type": "execute_result"
    }
   ],
   "source": [
    "resdf = pd.read_hdf('./decodes_and_error_rates.h5')\n",
    "resdf.head()"
   ]
  },
  {
   "cell_type": "code",
   "execution_count": 12,
   "metadata": {},
   "outputs": [],
   "source": [
    "wers = np.array(resdf['WER'])\n",
    "cers = np.array(resdf['CER'])\n",
    "pers = np.array(resdf['PER'])\n",
    "\n",
    "# Make the bad trial NAN\n",
    "# This was a single trial we threw out because the sentence was mistakenly in the training data. \n",
    "# And we wanted to evaluate performance on unseen sentences. \n",
    "for i in (resdf.loc[resdf['gts'] == 'you have a request'].index): \n",
    "    wers[i] = np.nan\n",
    "    cers[i] = np.nan\n",
    "    pers[i] = np.nan\n",
    "    \n",
    "resdf['WER'] = wers\n",
    "resdf['CER'] = cers\n",
    "resdf['PER'] = pers"
   ]
  },
  {
   "cell_type": "code",
   "execution_count": 13,
   "metadata": {},
   "outputs": [
    {
     "data": {
      "text/html": [
       "<div>\n",
       "<style scoped>\n",
       "    .dataframe tbody tr th:only-of-type {\n",
       "        vertical-align: middle;\n",
       "    }\n",
       "\n",
       "    .dataframe tbody tr th {\n",
       "        vertical-align: top;\n",
       "    }\n",
       "\n",
       "    .dataframe thead th {\n",
       "        text-align: right;\n",
       "    }\n",
       "</style>\n",
       "<table border=\"1\" class=\"dataframe\">\n",
       "  <thead>\n",
       "    <tr style=\"text-align: right;\">\n",
       "      <th></th>\n",
       "      <th>Condition</th>\n",
       "      <th>WER</th>\n",
       "      <th>CER</th>\n",
       "      <th>PER</th>\n",
       "      <th>gts</th>\n",
       "      <th>trans</th>\n",
       "      <th>gtphs</th>\n",
       "    </tr>\n",
       "  </thead>\n",
       "  <tbody>\n",
       "    <tr>\n",
       "      <th>0</th>\n",
       "      <td>Realtime results</td>\n",
       "      <td>0.166667</td>\n",
       "      <td>0.137931</td>\n",
       "      <td>0.160000</td>\n",
       "      <td>just look at all those people</td>\n",
       "      <td>she look at all those people</td>\n",
       "      <td>[|, JH, AH, S, T, |, L, UH, K, |, AE, T, |, AO...</td>\n",
       "    </tr>\n",
       "    <tr>\n",
       "      <th>1</th>\n",
       "      <td>Realtime results</td>\n",
       "      <td>0.000000</td>\n",
       "      <td>0.000000</td>\n",
       "      <td>0.000000</td>\n",
       "      <td>i will see what i can do</td>\n",
       "      <td>i will see what i can do</td>\n",
       "      <td>[|, AY, |, W, IH, L, |, S, IY, |, W, AH, T, |,...</td>\n",
       "    </tr>\n",
       "    <tr>\n",
       "      <th>2</th>\n",
       "      <td>Realtime results</td>\n",
       "      <td>0.571429</td>\n",
       "      <td>0.482759</td>\n",
       "      <td>0.423077</td>\n",
       "      <td>only when i give you an order</td>\n",
       "      <td>only when i could be a boy</td>\n",
       "      <td>[|, OW, N, L, IY, |, W, EH, N, |, AY, |, G, IH...</td>\n",
       "    </tr>\n",
       "    <tr>\n",
       "      <th>3</th>\n",
       "      <td>Realtime results</td>\n",
       "      <td>0.000000</td>\n",
       "      <td>0.000000</td>\n",
       "      <td>0.000000</td>\n",
       "      <td>i just got out here</td>\n",
       "      <td>i just got out here</td>\n",
       "      <td>[|, AY, |, JH, AH, S, T, |, G, AA, T, |, AW, T...</td>\n",
       "    </tr>\n",
       "    <tr>\n",
       "      <th>4</th>\n",
       "      <td>Realtime results</td>\n",
       "      <td>0.666667</td>\n",
       "      <td>0.633333</td>\n",
       "      <td>0.629630</td>\n",
       "      <td>if anything ever happens to me</td>\n",
       "      <td>i have to me</td>\n",
       "      <td>[|, IH, F, |, EH, N, IY, TH, IH, NG, |, EH, V,...</td>\n",
       "    </tr>\n",
       "  </tbody>\n",
       "</table>\n",
       "</div>"
      ],
      "text/plain": [
       "          Condition       WER       CER       PER  \\\n",
       "0  Realtime results  0.166667  0.137931  0.160000   \n",
       "1  Realtime results  0.000000  0.000000  0.000000   \n",
       "2  Realtime results  0.571429  0.482759  0.423077   \n",
       "3  Realtime results  0.000000  0.000000  0.000000   \n",
       "4  Realtime results  0.666667  0.633333  0.629630   \n",
       "\n",
       "                              gts                         trans  \\\n",
       "0   just look at all those people  she look at all those people   \n",
       "1        i will see what i can do      i will see what i can do   \n",
       "2   only when i give you an order    only when i could be a boy   \n",
       "3             i just got out here           i just got out here   \n",
       "4  if anything ever happens to me                  i have to me   \n",
       "\n",
       "                                               gtphs  \n",
       "0  [|, JH, AH, S, T, |, L, UH, K, |, AE, T, |, AO...  \n",
       "1  [|, AY, |, W, IH, L, |, S, IY, |, W, AH, T, |,...  \n",
       "2  [|, OW, N, L, IY, |, W, EH, N, |, AY, |, G, IH...  \n",
       "3  [|, AY, |, JH, AH, S, T, |, G, AA, T, |, AW, T...  \n",
       "4  [|, IH, F, |, EH, N, IY, TH, IH, NG, |, EH, V,...  "
      ]
     },
     "execution_count": 13,
     "metadata": {},
     "output_type": "execute_result"
    }
   ],
   "source": [
    "resdf.head()"
   ]
  },
  {
   "cell_type": "code",
   "execution_count": 14,
   "metadata": {},
   "outputs": [],
   "source": [
    "resdf_to_share = resdf.loc[resdf['Condition'] == 'Realtime results']\n",
    "resdf_to_share = pd.DataFrame({'Ground Truth':resdf_to_share['gts'], 'Transcription':resdf_to_share['trans'], \n",
    "                               'WER':resdf_to_share['WER'], 'CER':resdf_to_share['CER'], 'PER':resdf_to_share['PER']})"
   ]
  },
  {
   "cell_type": "code",
   "execution_count": 15,
   "metadata": {},
   "outputs": [],
   "source": [
    "resdf_to_share.to_csv('./results_and_error_rates.csv')"
   ]
  },
  {
   "cell_type": "code",
   "execution_count": 16,
   "metadata": {},
   "outputs": [
    {
     "data": {
      "text/plain": [
       "Condition                                     Realtime results\n",
       "WER                                                        NaN\n",
       "CER                                                        NaN\n",
       "PER                                                        NaN\n",
       "gts                                         you have a request\n",
       "trans                                    you have a girlfriend\n",
       "gtphs        [|, Y, UW, |, HH, AE, V, |, AH, |, R, IH, K, W...\n",
       "Name: 96, dtype: object"
      ]
     },
     "execution_count": 16,
     "metadata": {},
     "output_type": "execute_result"
    }
   ],
   "source": [
    "resdf.iloc[96]"
   ]
  },
  {
   "cell_type": "code",
   "execution_count": 17,
   "metadata": {},
   "outputs": [
    {
     "data": {
      "text/plain": [
       "3"
      ]
     },
     "execution_count": 17,
     "metadata": {},
     "output_type": "execute_result"
    }
   ],
   "source": [
    "ax1 = fig.add_subplot(gs[0, :3])\n",
    "resdf.head()\n",
    "resdf = translate_labels(resdf)\n",
    "np.sum([pd.isna(w) for w in resdf['WER'].values])"
   ]
  },
  {
   "cell_type": "code",
   "execution_count": 18,
   "metadata": {},
   "outputs": [
    {
     "data": {
      "text/plain": [
       "750"
      ]
     },
     "execution_count": 18,
     "metadata": {},
     "output_type": "execute_result"
    }
   ],
   "source": [
    "len(resdf)"
   ]
  },
  {
   "cell_type": "code",
   "execution_count": 19,
   "metadata": {},
   "outputs": [
    {
     "data": {
      "text/plain": [
       "{'Chance', 'Neural\\ndecoding\\nonly', 'Real-time\\nresults'}"
      ]
     },
     "execution_count": 19,
     "metadata": {},
     "output_type": "execute_result"
    }
   ],
   "source": [
    "(set(resdf['Condition'].values))"
   ]
  },
  {
   "cell_type": "code",
   "execution_count": 20,
   "metadata": {},
   "outputs": [],
   "source": [
    "sdf = resdf.loc[resdf['Condition'] == 'Real-time\\nresults']"
   ]
  },
  {
   "cell_type": "code",
   "execution_count": 21,
   "metadata": {},
   "outputs": [],
   "source": [
    "def getlengths(lengths_df, val): \n",
    "    if val == 'WER': \n",
    "        return lengths_df['word'].values\n",
    "    elif val == 'CER': \n",
    "        return lengths_df['chars'].values\n",
    "    elif val == 'PER': \n",
    "        return lengths_df['phones'].values"
   ]
  },
  {
   "cell_type": "code",
   "execution_count": 22,
   "metadata": {},
   "outputs": [
    {
     "name": "stdout",
     "output_type": "stream",
     "text": [
      "WER ['0.540', '0.590', '0.633']\n",
      "CER ['0.480', '0.522', '0.562']\n",
      "PER ['0.263', '0.294', '0.328']\n"
     ]
    }
   ],
   "source": [
    "for val in ['WER', 'CER', 'PER']:\n",
    "    sdf = resdf.loc[resdf['Condition'] == 'Neural\\ndecoding\\nonly']\n",
    "    lengths = getlengths(lengths_df, val)\n",
    "    print(val, ['%.3f' %p for p in np.percentile(bootstrap(pseudoblock(sdf[val].values, val, lengths_df)), [.5, 50, 99.5])])"
   ]
  },
  {
   "cell_type": "code",
   "execution_count": 23,
   "metadata": {},
   "outputs": [
    {
     "name": "stdout",
     "output_type": "stream",
     "text": [
      "PER ['0.260', '0.294', '0.329']\n",
      "[0.26341036 0.29362259 0.3262206 ]\n",
      "0.294\n"
     ]
    }
   ],
   "source": [
    "for val in ['PER']:\n",
    "    sdf = resdf.loc[resdf['Condition'] == 'Neural\\ndecoding\\nonly']\n",
    "    lengths = getlengths(lengths_df, val)\n",
    "#     print(val, np.percentile(bootstrap(pseudoblock(sdf[val].values, val, lengths_df)), [.5, 50, 99.5]))\n",
    "    print(val, ['%.3f' %p for p in np.percentile(bootstrap(pseudoblock(sdf[val].values, val, lengths_df)), [.5, 50, 99.5])])\n",
    "    print(np.percentile(bootstrap(pseudoblock(sdf[val].values, val, lengths_df), metric=np.mean), [.5, 50, 99.5]))\n",
    "    print('%.3f' %np.median(bootstrap(pseudoblock(sdf[val].values, val, lengths_df), metric=np.mean)))"
   ]
  },
  {
   "cell_type": "code",
   "execution_count": 24,
   "metadata": {},
   "outputs": [
    {
     "name": "stdout",
     "output_type": "stream",
     "text": [
      "PER [0.75112205 0.76351713 0.77467366]\n",
      "0.769\n"
     ]
    }
   ],
   "source": [
    "sdf = resdf.loc[resdf['Condition'] == 'Chance']\n",
    "val = 'PER'\n",
    "lengths = getlengths(lengths_df, val)\n",
    "print(val, np.percentile(bootstrap(pseudoblock(sdf[val].values, val, lengths_df)), [.5, 50, 99.5]))\n",
    "print('%.3f' %np.median(pseudoblock(sdf[val].values, val, lengths_df)))"
   ]
  },
  {
   "cell_type": "code",
   "execution_count": 25,
   "metadata": {},
   "outputs": [
    {
     "name": "stdout",
     "output_type": "stream",
     "text": [
      "REPORTED IN PAPER\n",
      "0.2549019607843137\n",
      "WER ['0.193', '0.255', '0.345'] 0.255\n",
      "0.19907407407407407\n",
      "CER ['0.150', '0.199', '0.301'] 0.199\n",
      "0.1845765793134214\n",
      "PER ['0.141', '0.185', '0.285'] 0.185\n"
     ]
    }
   ],
   "source": [
    "print('REPORTED IN PAPER')\n",
    "for val in ['WER', 'CER', 'PER']:\n",
    "    sdf = resdf.loc[resdf['Condition'] == 'Real-time\\nresults']\n",
    "    lengths = getlengths(lengths_df, val)\n",
    "    v = pseudoblock(sdf[val].values, val, lengths_df)\n",
    "    print(np.median(v))\n",
    "    print(val, ['%.3f' %p for p in np.percentile(bootstrap(v, metric=np.median),  [.5, 50, 99.5])], '%.3f' %np.median(v))"
   ]
  },
  {
   "cell_type": "code",
   "execution_count": 26,
   "metadata": {},
   "outputs": [],
   "source": [
    "lildf = resdf.loc[resdf['Condition'] =='Real-time\\nresults']\n",
    "lildf.head()\n",
    "wers = lildf['WER'].values"
   ]
  },
  {
   "cell_type": "code",
   "execution_count": 27,
   "metadata": {},
   "outputs": [],
   "source": [
    "from statannot import add_stat_annotation"
   ]
  },
  {
   "cell_type": "code",
   "execution_count": 28,
   "metadata": {},
   "outputs": [
    {
     "data": {
      "text/plain": [
       "(75, 75)"
      ]
     },
     "execution_count": 28,
     "metadata": {},
     "output_type": "execute_result"
    }
   ],
   "source": [
    "wer, cer, per, cond = [], [], [], []\n",
    "for c in set(resdf['Condition'].values):\n",
    "    sdf = resdf.loc[resdf['Condition'] == c]\n",
    "    for metric, metlist in zip(['WER', 'CER', 'PER'], [wer, cer, per]):\n",
    "        dvs = pseudoblock(np.array(sdf[metric].values), metric, lengths_df)\n",
    "        metlist.extend([100*k for k in dvs ])\n",
    "    cond.extend([c]*len(dvs))\n",
    "len(cond), len(wer)"
   ]
  },
  {
   "cell_type": "code",
   "execution_count": 29,
   "metadata": {},
   "outputs": [],
   "source": [
    "resdf = pd.DataFrame({\n",
    "    'Condition':cond,\n",
    "    'WER':wer,\n",
    "    'CER':cer,\n",
    "    'PER':per\n",
    "})"
   ]
  },
  {
   "cell_type": "code",
   "execution_count": 30,
   "metadata": {},
   "outputs": [
    {
     "name": "stderr",
     "output_type": "stream",
     "text": [
      "/tmp/ipykernel_384485/2763137870.py:2: SettingWithCopyWarning: \n",
      "A value is trying to be set on a copy of a slice from a DataFrame.\n",
      "Try using .loc[row_indexer,col_indexer] = value instead\n",
      "\n",
      "See the caveats in the documentation: https://pandas.pydata.org/pandas-docs/stable/user_guide/indexing.html#returning-a-view-versus-a-copy\n",
      "  resdf.loc[resdf['Condition'] == 'Chance']['WER'] = None\n",
      "/tmp/ipykernel_384485/2763137870.py:4: SettingWithCopyWarning: \n",
      "A value is trying to be set on a copy of a slice from a DataFrame.\n",
      "Try using .loc[row_indexer,col_indexer] = value instead\n",
      "\n",
      "See the caveats in the documentation: https://pandas.pydata.org/pandas-docs/stable/user_guide/indexing.html#returning-a-view-versus-a-copy\n",
      "  resdf.loc[resdf['Condition'] == 'Chance']['CER'] = None\n"
     ]
    }
   ],
   "source": [
    "resdf.loc[resdf['Condition'] == 'Neural\\ncdecoding\\nonly'][\"WER\"] = None\n",
    "resdf.loc[resdf['Condition'] == 'Chance']['WER'] = None\n",
    "resdf.loc[resdf['Condition'] == 'Neural\\ncdecoding\\nonly'][\"CER\"] = None\n",
    "resdf.loc[resdf['Condition'] == 'Chance']['CER'] = None"
   ]
  },
  {
   "cell_type": "code",
   "execution_count": 31,
   "metadata": {},
   "outputs": [],
   "source": [
    "# bootstrapped_wers= bootstrap(wers, lengths= lengths_df['word'].values, multlens=True)\n",
    "# print(np.mean(bootstrapped_wers), np.median(bootstrapped_wers))"
   ]
  },
  {
   "cell_type": "code",
   "execution_count": 32,
   "metadata": {},
   "outputs": [],
   "source": [
    "def plot_components(ax1, y, y_name):\n",
    "    if y == 'PER':\n",
    "        order= ['Chance', 'Neural\\ndecoding\\nonly', 'Real-time\\nresults']\n",
    "        box_pairs=[(\"Chance\", \"Real-time\\nresults\"), (\"Neural\\ndecoding\\nonly\", \"Real-time\\nresults\"), (\"Chance\", \"Neural\\ndecoding\\nonly\")]\n",
    "    else: \n",
    "        order =['Chance', 'Real-time\\nresults']\n",
    "        box_pairs=[(\"Chance\", \"Real-time\\nresults\")]\n",
    "    bps = box_pairs\n",
    "    resdf_ = resdf.loc[resdf['Condition'].isin(order)]\n",
    "    sns.boxplot(x='Condition', y=y, data=resdf_,\n",
    "                order=order,\n",
    "               ax=ax1, medianprops=dict(linewidth=1.25),\n",
    "                **{'boxprops':{'facecolor':'none'}})\n",
    "    ax1.set_ylabel(y_name)\n",
    "    x = 'Condition'\n",
    "    y=y\n",
    "    # Note - because all p-values < .0001 after correction (see below, we just keep this as is) \n",
    "    test_results = add_stat_annotation(ax1, data=resdf_, x=x, y=y, order=order,\n",
    "                                       box_pairs = bps,\n",
    "                                       test='Wilcoxon', text_format='star',\n",
    "                                       loc='outside', verbose=2, linewidth=1)\n",
    "    ax1.set_xlabel('')"
   ]
  },
  {
   "cell_type": "code",
   "execution_count": 33,
   "metadata": {},
   "outputs": [],
   "source": [
    "from scipy.stats import wilcoxon"
   ]
  },
  {
   "cell_type": "code",
   "execution_count": 34,
   "metadata": {},
   "outputs": [],
   "source": [
    "from statsmodels.stats.multitest import multipletests"
   ]
  },
  {
   "cell_type": "code",
   "execution_count": 35,
   "metadata": {},
   "outputs": [],
   "source": [
    "def get_pvalues(df, metrics):\n",
    "    p_values = []\n",
    "    just_p_values = []\n",
    "    for y in metrics: \n",
    "        if y == 'PER':\n",
    "            order= ['Chance', 'Neural\\ndecoding\\nonly', 'Real-time\\nresults']\n",
    "            box_pairs=[(\"Chance\", \"Real-time\\nresults\"), (\"Neural\\ndecoding\\nonly\", \"Real-time\\nresults\"), (\"Chance\", \"Neural\\ndecoding\\nonly\")]\n",
    "        else: \n",
    "            order =['Chance', 'Real-time\\nresults']\n",
    "            box_pairs=[(\"Chance\", \"Real-time\\nresults\")]\n",
    "        bps = box_pairs\n",
    "        resdf_ = resdf.loc[resdf['Condition'].isin(order)]\n",
    "        for (b1, b2) in box_pairs: \n",
    "            print(b1, b2)\n",
    "            x_vals = resdf_.loc[resdf_['Condition'] == b1][y].values\n",
    "            y_vals = resdf_.loc[resdf_['Condition'] == b2][y].values\n",
    "            w= wilcoxon(x_vals, y_vals)\n",
    "            p_values.append((y+' '+b1.replace('\\n', ' ') + ' vs. ' + b2.replace('\\n', ' '), w))\n",
    "            just_p_values.append(w.pvalue)\n",
    "            \n",
    "#     print(just_p_values)\n",
    "    correction = multipletests(just_p_values, alpha=0.01, method='holm')[1]\n",
    "    test, pcor, praw, name = [], [], [], []\n",
    "    for v, d in zip(p_values, correction):\n",
    "        name.append(v[0])\n",
    "        test.append(v[1].statistic)\n",
    "        praw.append(v[1].pvalue)\n",
    "        pcor.append(d)\n",
    "    df = pd.DataFrame({\n",
    "        'Comparison': name,\n",
    "        'statistic': test,\n",
    "#         'raw p-value':praw,\n",
    "        'p-value (corrected)':pcor\n",
    "    })\n",
    "    return df"
   ]
  },
  {
   "cell_type": "code",
   "execution_count": 36,
   "metadata": {},
   "outputs": [
    {
     "name": "stdout",
     "output_type": "stream",
     "text": [
      "Chance Real-time\n",
      "results\n",
      "Neural\n",
      "decoding\n",
      "only Real-time\n",
      "results\n",
      "Chance Neural\n",
      "decoding\n",
      "only\n",
      "Chance Real-time\n",
      "results\n",
      "Chance Real-time\n",
      "results\n"
     ]
    }
   ],
   "source": [
    "ps = get_pvalues(resdf, ['PER', 'WER', 'CER'])"
   ]
  },
  {
   "cell_type": "code",
   "execution_count": 37,
   "metadata": {},
   "outputs": [
    {
     "name": "stdout",
     "output_type": "stream",
     "text": [
      "\\begin{tabular}{lrr}\n",
      "\\toprule\n",
      "                                    Comparison &  statistic &  p-value (corrected) \\\\\n",
      "\\midrule\n",
      "              PER Chance vs. Real-time results &   0.00e+00 &             2.98e-07 \\\\\n",
      "PER Neural decoding only vs. Real-time results &   0.00e+00 &             2.98e-07 \\\\\n",
      "           PER Chance vs. Neural decoding only &   0.00e+00 &             2.98e-07 \\\\\n",
      "              WER Chance vs. Real-time results &   0.00e+00 &             2.98e-07 \\\\\n",
      "              CER Chance vs. Real-time results &   0.00e+00 &             2.98e-07 \\\\\n",
      "\\bottomrule\n",
      "\\end{tabular}\n",
      "\n"
     ]
    },
    {
     "name": "stderr",
     "output_type": "stream",
     "text": [
      "/tmp/ipykernel_384485/1210041412.py:1: FutureWarning: In future versions `DataFrame.to_latex` is expected to utilise the base implementation of `Styler.to_latex` for formatting and rendering. The arguments signature may therefore change. It is recommended instead to use `DataFrame.style.to_latex` which also contains additional functionality.\n",
      "  print(ps.to_latex(index=False, float_format=\"{:0.2e}\".format))\n"
     ]
    }
   ],
   "source": [
    "print(ps.to_latex(index=False, float_format=\"{:0.2e}\".format))"
   ]
  },
  {
   "cell_type": "code",
   "execution_count": 38,
   "metadata": {},
   "outputs": [
    {
     "name": "stdout",
     "output_type": "stream",
     "text": [
      "p-value annotation legend:\n",
      "ns: 5.00e-02 < p <= 1.00e+00\n",
      "*: 1.00e-02 < p <= 5.00e-02\n",
      "**: 1.00e-03 < p <= 1.00e-02\n",
      "***: 1.00e-04 < p <= 1.00e-03\n",
      "****: p <= 1.00e-04\n",
      "\n",
      "Using zero_method  wilcox\n",
      "nc 3\n",
      "num comp 3\n",
      "Neural\n",
      "decoding\n",
      "only v.s. Real-time\n",
      "results: Wilcoxon test (paired samples) with Bonferroni correction, P_val=1.788e-07 stat=0.000e+00\n",
      "Using zero_method  wilcox\n",
      "nc 3\n",
      "num comp 3\n",
      "Chance v.s. Neural\n",
      "decoding\n",
      "only: Wilcoxon test (paired samples) with Bonferroni correction, P_val=1.788e-07 stat=0.000e+00\n",
      "Using zero_method  wilcox\n",
      "nc 3\n",
      "num comp 3\n",
      "Chance v.s. Real-time\n",
      "results: Wilcoxon test (paired samples) with Bonferroni correction, P_val=1.788e-07 stat=0.000e+00\n",
      "p-value annotation legend:\n",
      "ns: 5.00e-02 < p <= 1.00e+00\n",
      "*: 1.00e-02 < p <= 5.00e-02\n",
      "**: 1.00e-03 < p <= 1.00e-02\n",
      "***: 1.00e-04 < p <= 1.00e-03\n",
      "****: p <= 1.00e-04\n",
      "\n",
      "Using zero_method  wilcox\n",
      "nc 1\n",
      "num comp 1\n",
      "Chance v.s. Real-time\n",
      "results: Wilcoxon test (paired samples) with Bonferroni correction, P_val=5.960e-08 stat=0.000e+00\n",
      "p-value annotation legend:\n",
      "ns: 5.00e-02 < p <= 1.00e+00\n",
      "*: 1.00e-02 < p <= 5.00e-02\n",
      "**: 1.00e-03 < p <= 1.00e-02\n",
      "***: 1.00e-04 < p <= 1.00e-03\n",
      "****: p <= 1.00e-04\n",
      "\n",
      "Using zero_method  wilcox\n",
      "nc 1\n",
      "num comp 1\n",
      "Chance v.s. Real-time\n",
      "results: Wilcoxon test (paired samples) with Bonferroni correction, P_val=5.960e-08 stat=0.000e+00\n"
     ]
    },
    {
     "data": {
      "text/plain": [
       "[<matplotlib.axis.YTick at 0x7f29d6000790>,\n",
       " <matplotlib.axis.YTick at 0x7f29d6000130>,\n",
       " <matplotlib.axis.YTick at 0x7f29d5ff2970>,\n",
       " <matplotlib.axis.YTick at 0x7f29d5f4e430>,\n",
       " <matplotlib.axis.YTick at 0x7f29d5f4e130>]"
      ]
     },
     "execution_count": 38,
     "metadata": {},
     "output_type": "execute_result"
    },
    {
     "data": {
      "text/plain": [
       "<Figure size 640x480 with 0 Axes>"
      ]
     },
     "metadata": {},
     "output_type": "display_data"
    }
   ],
   "source": [
    "# ax1.set_xticklabels(order, rotation = 90)\n",
    "plot_components(ax1, 'PER', \"Phone error rate\")\n",
    "ax1.set_ylim([0, 110])\n",
    "ax1.spines['left'].set_bounds(0, 100)\n",
    "ax1.set_yticks([0, 25, 50, 75, 100])\n",
    "ax1b = fig.add_subplot(gs[0, 3:5])\n",
    "plot_components(ax1b, 'WER', \"Word error rate\")\n",
    "ax1b.set_ylim([0, 110])\n",
    "ax1b.spines['left'].set_bounds(0, 100)\n",
    "ax1b.set_yticks([0, 25, 50, 75, 100])\n",
    "ax1c = fig.add_subplot(gs[0, 5:7])\n",
    "ax1c.spines['left'].set_bounds(0, 100)\n",
    "plot_components(ax1c, 'CER', \"Character error rate\")\n",
    "ax1c.set_ylim([0, 110])\n",
    "ax1c.set_yticks([0, 25, 50, 75, 100])"
   ]
  },
  {
   "cell_type": "markdown",
   "metadata": {},
   "source": [
    "### Words per minute..."
   ]
  },
  {
   "cell_type": "code",
   "execution_count": 39,
   "metadata": {},
   "outputs": [
    {
     "name": "stdout",
     "output_type": "stream",
     "text": [
      "no metric\n"
     ]
    },
    {
     "data": {
      "text/plain": [
       "Text(0.5, 0, '')"
      ]
     },
     "execution_count": 39,
     "metadata": {},
     "output_type": "execute_result"
    }
   ],
   "source": [
    "# Words/minute. \n",
    "ax1d = fig.add_subplot(gs[0, -2:])\n",
    "df=pd.read_hdf('./wpms.h5')\n",
    "wpms_all = df['wpm'].values[:250] # \n",
    "wpms_all[96] = np.nan\n",
    "wpms_all = pseudoblock(wpms_all, metric = 'WPM')\n",
    "\n",
    "nudf = pd.DataFrame({\n",
    "    'Words per minute':wpms_all,\n",
    "    'Condition':['Real-time\\nresults']*len(wpms_all)\n",
    "})\n",
    "# nudf.to_csv('./source_data/figure_2e.csv')\n",
    "sns.boxplot(x='Condition', y='Words per minute', data=nudf, width=0.4, ax=ax1d, color=sns.color_palette('Set2')[3],\n",
    "            medianprops = dict(linewidth=1.25),\n",
    "            **{'boxprops':{'facecolor':'none'}})\n",
    "ax1d.axhline(15, label='Moses et al 2021', c='k', alpha=.8, linestyle='--')\n",
    "\n",
    "# ax1d.legend()\n",
    "ax1d.set_ylim(0, 90)\n",
    "ax1d.set_xlabel('')\n",
    "# identical to ax1 = plt.subplot(gs.new_subplotspec((0, 0), colspan=3))"
   ]
  },
  {
   "cell_type": "code",
   "execution_count": 40,
   "metadata": {},
   "outputs": [
    {
     "name": "stdout",
     "output_type": "stream",
     "text": [
      "Help on function bootstrap in module __main__:\n",
      "\n",
      "bootstrap(x, lengths=None, B=2000, metric=<function mean at 0x7f2a200abca0>, multlens=False)\n",
      "    Bootstrap function\n",
      "    \n",
      "    x = list of error rates\n",
      "    lengths = what the length of each sentence is if you're doing wer\n",
      "    B = number of samples to draw\n",
      "    metric = function to use. if lengths is not None, then only mean is calculated\n",
      "    multlens = multiply list of error rates by their lengths, otherwise just take the mean.\n",
      "\n"
     ]
    }
   ],
   "source": [
    "help(bootstrap)"
   ]
  },
  {
   "cell_type": "code",
   "execution_count": 41,
   "metadata": {},
   "outputs": [],
   "source": [
    "wpms_all = np.array(wpms_all)"
   ]
  },
  {
   "cell_type": "code",
   "execution_count": 42,
   "metadata": {},
   "outputs": [
    {
     "data": {
      "text/plain": [
       "(78.25899141367181, array([75.39320561, 79.48518814]))"
      ]
     },
     "execution_count": 42,
     "metadata": {},
     "output_type": "execute_result"
    }
   ],
   "source": [
    "np.median(wpms_all), np.percentile(bootstrap(np.array(wpms_all)), [0.5, 99.5])"
   ]
  },
  {
   "cell_type": "code",
   "execution_count": 43,
   "metadata": {},
   "outputs": [],
   "source": [
    "# np.max(wpms_all), np.percentile(bootstrap(wpms_all, metric=np.max), [0.5, 99.5])"
   ]
  },
  {
   "cell_type": "code",
   "execution_count": 44,
   "metadata": {},
   "outputs": [],
   "source": [
    "df = pd.read_hdf('./ground_truth_lengths.h5')"
   ]
  },
  {
   "cell_type": "code",
   "execution_count": 45,
   "metadata": {},
   "outputs": [
    {
     "data": {
      "text/html": [
       "<div>\n",
       "<style scoped>\n",
       "    .dataframe tbody tr th:only-of-type {\n",
       "        vertical-align: middle;\n",
       "    }\n",
       "\n",
       "    .dataframe tbody tr th {\n",
       "        vertical-align: top;\n",
       "    }\n",
       "\n",
       "    .dataframe thead th {\n",
       "        text-align: right;\n",
       "    }\n",
       "</style>\n",
       "<table border=\"1\" class=\"dataframe\">\n",
       "  <thead>\n",
       "    <tr style=\"text-align: right;\">\n",
       "      <th></th>\n",
       "      <th>word</th>\n",
       "      <th>chars</th>\n",
       "      <th>phones</th>\n",
       "      <th>gt</th>\n",
       "      <th>gtphs</th>\n",
       "    </tr>\n",
       "  </thead>\n",
       "  <tbody>\n",
       "    <tr>\n",
       "      <th>0</th>\n",
       "      <td>6</td>\n",
       "      <td>29</td>\n",
       "      <td>26</td>\n",
       "      <td>just look at all those people</td>\n",
       "      <td>[|, JH, AH, S, T, |, L, UH, K, |, AE, T, |, AO...</td>\n",
       "    </tr>\n",
       "    <tr>\n",
       "      <th>1</th>\n",
       "      <td>7</td>\n",
       "      <td>24</td>\n",
       "      <td>23</td>\n",
       "      <td>i will see what i can do</td>\n",
       "      <td>[|, AY, |, W, IH, L, |, S, IY, |, W, AH, T, |,...</td>\n",
       "    </tr>\n",
       "    <tr>\n",
       "      <th>2</th>\n",
       "      <td>7</td>\n",
       "      <td>29</td>\n",
       "      <td>27</td>\n",
       "      <td>only when i give you an order</td>\n",
       "      <td>[|, OW, N, L, IY, |, W, EH, N, |, AY, |, G, IH...</td>\n",
       "    </tr>\n",
       "    <tr>\n",
       "      <th>3</th>\n",
       "      <td>5</td>\n",
       "      <td>19</td>\n",
       "      <td>19</td>\n",
       "      <td>i just got out here</td>\n",
       "      <td>[|, AY, |, JH, AH, S, T, |, G, AA, T, |, AW, T...</td>\n",
       "    </tr>\n",
       "    <tr>\n",
       "      <th>4</th>\n",
       "      <td>6</td>\n",
       "      <td>30</td>\n",
       "      <td>28</td>\n",
       "      <td>if anything ever happens to me</td>\n",
       "      <td>[|, IH, F, |, EH, N, IY, TH, IH, NG, |, EH, V,...</td>\n",
       "    </tr>\n",
       "  </tbody>\n",
       "</table>\n",
       "</div>"
      ],
      "text/plain": [
       "   word  chars  phones                              gt  \\\n",
       "0     6     29      26   just look at all those people   \n",
       "1     7     24      23        i will see what i can do   \n",
       "2     7     29      27   only when i give you an order   \n",
       "3     5     19      19             i just got out here   \n",
       "4     6     30      28  if anything ever happens to me   \n",
       "\n",
       "                                               gtphs  \n",
       "0  [|, JH, AH, S, T, |, L, UH, K, |, AE, T, |, AO...  \n",
       "1  [|, AY, |, W, IH, L, |, S, IY, |, W, AH, T, |,...  \n",
       "2  [|, OW, N, L, IY, |, W, EH, N, |, AY, |, G, IH...  \n",
       "3  [|, AY, |, JH, AH, S, T, |, G, AA, T, |, AW, T...  \n",
       "4  [|, IH, F, |, EH, N, IY, TH, IH, NG, |, EH, V,...  "
      ]
     },
     "execution_count": 45,
     "metadata": {},
     "output_type": "execute_result"
    }
   ],
   "source": [
    "df.head()"
   ]
  },
  {
   "cell_type": "markdown",
   "metadata": {},
   "source": [
    "### Learning curve. "
   ]
  },
  {
   "cell_type": "code",
   "execution_count": 46,
   "metadata": {},
   "outputs": [],
   "source": [
    "ax2 = fig.add_subplot(gs[1, :3])\n",
    "import seaborn as sns\n",
    "sns.set_palette(sns.color_palette('Set2'))\n",
    "import matplotlib\n",
    "# sdf = pd.read_hdf('./learning_curve_data.h5')"
   ]
  },
  {
   "cell_type": "code",
   "execution_count": 47,
   "metadata": {},
   "outputs": [],
   "source": [
    "sdf = pd.read_hdf('./learning_curve_data.h5')"
   ]
  },
  {
   "cell_type": "code",
   "execution_count": 48,
   "metadata": {},
   "outputs": [],
   "source": [
    "days = []\n",
    "score = []\n",
    "metric= []\n",
    "for k, w, p, c in zip(sdf['days_to_use'], sdf['rt_med_wer'], sdf['rt_med_per'], sdf['rt_med_cer']):\n",
    "\n",
    "#     score.extend([w, p, c])\n",
    "#     metric.extend(['Word', 'Phoneme', 'Character'])\n",
    "\n",
    "\n",
    "    import ast\n",
    "    w = ast.literal_eval(w)\n",
    "    p = ast.literal_eval(p)\n",
    "    c = ast.literal_eval(c)\n",
    "\n",
    "    w[96] = np.nan\n",
    "    p[96] = np.nan\n",
    "    c[96]= np.nan\n",
    "    score.extend(pseudoblock(w, 'wer', lengths_df))\n",
    "    score.extend(pseudoblock(p, 'per', lengths_df))\n",
    "    score.extend(pseudoblock(c, 'cer', lengths_df))\n",
    "    days.extend((3*len(pseudoblock(c, 'cer', lengths_df)))*[k])\n",
    "    metric.extend(['Word']*len(pseudoblock(w, 'wer', lengths_df)) + ['Phoneme']*len(pseudoblock(p, 'per', lengths_df)) + ['Character']*len(pseudoblock(c, 'cer', lengths_df)))\n",
    "# wer, cer, per, cond = [], [], [], []\n",
    "# for c in set(resdf['Condition'].values):\n",
    "#     sdf = resdf.loc[resdf['Condition'] == c]\n",
    "#     for metric, metlist in zip(['WER', 'CER', 'PER'], [wer, cer, per]):\n",
    "        \n",
    "#         metlist.extend(return_distribution(sdf[metric].values))\n",
    "#     cond.extend([c]*len(sdf[metric].values))\n",
    "    \n",
    "\n",
    "# len(cond), len(wer)\n",
    "\n",
    "# resdf = pd.DataFrame({\n",
    "#     'Condition':cond,\n",
    "#     'WER':wer,\n",
    "#     'CER':cer,\n",
    "#     'PER':per\n",
    "# })\n",
    "\n"
   ]
  },
  {
   "cell_type": "code",
   "execution_count": 49,
   "metadata": {},
   "outputs": [],
   "source": [
    "nudf = pd.DataFrame({\n",
    "    'Days of data collection\\n(Hours of training data used)':days,\n",
    "    'Error rate':score,\n",
    "    'Metric':metric,\n",
    "})"
   ]
  },
  {
   "cell_type": "code",
   "execution_count": 50,
   "metadata": {},
   "outputs": [
    {
     "data": {
      "text/plain": [
       "{1.0, 2.0, 3.0, 4.0, 5.0, 6.0, 7.0, 8.0, 9.0, 10.0, 11.0, 12.0, 13.0}"
      ]
     },
     "execution_count": 50,
     "metadata": {},
     "output_type": "execute_result"
    }
   ],
   "source": [
    "set(days)"
   ]
  },
  {
   "cell_type": "code",
   "execution_count": 51,
   "metadata": {},
   "outputs": [
    {
     "data": {
      "text/plain": [
       "{'Character', 'Phoneme', 'Word'}"
      ]
     },
     "execution_count": 51,
     "metadata": {},
     "output_type": "execute_result"
    }
   ],
   "source": [
    "set(metric)"
   ]
  },
  {
   "cell_type": "code",
   "execution_count": 52,
   "metadata": {},
   "outputs": [],
   "source": [
    "# Cut out duplicate trials"
   ]
  },
  {
   "cell_type": "code",
   "execution_count": 53,
   "metadata": {},
   "outputs": [],
   "source": [
    "days_, score_, metric_ = [],[], []"
   ]
  },
  {
   "cell_type": "code",
   "execution_count": 54,
   "metadata": {},
   "outputs": [],
   "source": [
    "for d in list(set(days)): \n",
    "    sdf = nudf.loc[nudf['Days of data collection\\n(Hours of training data used)'] ==d]\n",
    "    for metric in ['Word', 'Phoneme', 'Character']: \n",
    "        sdf_ = sdf.loc[sdf['Metric'] == metric]\n",
    "        days_.extend([d]*125)\n",
    "        score_.extend(sdf_['Error rate'].values[-125:]) # Use last CV runs\n",
    "        metric_.extend([metric]*125)"
   ]
  },
  {
   "cell_type": "code",
   "execution_count": 55,
   "metadata": {},
   "outputs": [
    {
     "data": {
      "text/plain": [
       "(4875, 4875)"
      ]
     },
     "execution_count": 55,
     "metadata": {},
     "output_type": "execute_result"
    }
   ],
   "source": [
    "len(days_), len(score_)"
   ]
  },
  {
   "cell_type": "code",
   "execution_count": 56,
   "metadata": {},
   "outputs": [],
   "source": [
    "nudf = pd.DataFrame({\n",
    "    'Days of data collection\\n(Hours of training data used)':days_,\n",
    "    'Error rate':score_,\n",
    "    'Metric':metric_,\n",
    "})"
   ]
  },
  {
   "cell_type": "code",
   "execution_count": 57,
   "metadata": {},
   "outputs": [],
   "source": [
    "# sns.lineplot(x='Days of data collection\\n(Hours of training data used)', y='Error rate', hue='Metric',style='Metric', markers=True,dashes=True,\n",
    "#             data=nudf, err_style='bars', alpha=0.7,estimator='median')"
   ]
  },
  {
   "cell_type": "code",
   "execution_count": 58,
   "metadata": {},
   "outputs": [
    {
     "data": {
      "text/plain": [
       "<AxesSubplot: xlabel='Days of data collection\\n(Hours of training data used)', ylabel='Error rate'>"
      ]
     },
     "execution_count": 58,
     "metadata": {},
     "output_type": "execute_result"
    }
   ],
   "source": [
    "sns.lineplot(x='Days of data collection\\n(Hours of training data used)', y='Error rate', hue='Metric',style='Metric', markers=True,dashes=True,\n",
    "            data=nudf, err_style='bars', alpha=0.7, ax=ax2, estimator='median', errorbar=('ci', 99))"
   ]
  },
  {
   "cell_type": "code",
   "execution_count": 59,
   "metadata": {},
   "outputs": [],
   "source": [
    "# list(np.arange(10)/10)[::2]"
   ]
  },
  {
   "cell_type": "code",
   "execution_count": 60,
   "metadata": {},
   "outputs": [
    {
     "name": "stderr",
     "output_type": "stream",
     "text": [
      "/tmp/ipykernel_384485/2695293292.py:11: MatplotlibDeprecationWarning: The 'b' parameter of grid() has been renamed 'visible' since Matplotlib 3.5; support for the old name will be dropped two minor releases later.\n",
      "  ax2.grid(b=True, which='major', axis='y', color='black', linewidth=0.075)\n"
     ]
    },
    {
     "data": {
      "text/plain": [
       "[<matplotlib.axis.XTick at 0x7f29d5f66b80>,\n",
       " <matplotlib.axis.XTick at 0x7f29d5f66af0>,\n",
       " <matplotlib.axis.XTick at 0x7f29d5e9df40>,\n",
       " <matplotlib.axis.XTick at 0x7f29d5de2d90>]"
      ]
     },
     "execution_count": 60,
     "metadata": {},
     "output_type": "execute_result"
    }
   ],
   "source": [
    "# sns.set(rc={\"lines.linewidth\": 3})\n",
    "# sns.lineplot(x='days_to_use', y='rt_med_wer', data=sdf, label='Word', err_style ='bars', estimator='median', ax=ax2,color=sns.color_palette('Set2')[4], \n",
    "#              markers=\"o\", alpha=0.3) # linestyles='solid')\n",
    "# sns.lineplot(x='days_to_use', y='rt_med_per', data=sdf, label='Phoneme', err_style='bars', estimator='median', ax=ax2, color=sns.color_palette('Set2')[5], \n",
    "#              markers='*', alpha=0.3) #, linestyles='solid')\n",
    "# g= sns.lineplot(x='days_to_use', y='rt_med_cer', data=sdf, label='Character', err_style='bars', estimator='median', ax=ax2,\n",
    "#                  color=sns.color_palette('Set2')[6], markers='h', alpha=0.3) #,linestyles='dashed')\n",
    "# plt.setp([ax2.get_children()],alpha=.5)\n",
    "ax2.set_yticks([0, .25, .5, .75, 1.0], [0, 25, 50, 75, 100])\n",
    "ax2.legend()\n",
    "ax2.grid(b=True, which='major', axis='y', color='black', linewidth=0.075)\n",
    "ax2.set_xlabel('Days of data collection\\n(Hours of training data used)')\n",
    "ax2.set_ylabel('Error rate')\n",
    "ax2.set_xticks(np.array([1, 5, 10, 13]),['1\\n(1.6hr)', '5\\n(7.4hr)', '10\\n(15.5hr)', '13\\n(17.7hr)'])"
   ]
  },
  {
   "cell_type": "markdown",
   "metadata": {},
   "source": [
    "### Vocab"
   ]
  },
  {
   "cell_type": "code",
   "execution_count": 61,
   "metadata": {},
   "outputs": [
    {
     "data": {
      "text/plain": [
       "{1024, 1506, 2269, 3419, 5152, 7763, 11696, 17621, 26549, 39378}"
      ]
     },
     "execution_count": 61,
     "metadata": {},
     "output_type": "execute_result"
    }
   ],
   "source": [
    "import pandas as pd\n",
    "vocab_df =pd.read_hdf('./plot_vocab.h5')\n",
    "set(vocab_df['Vocab size'].values)"
   ]
  },
  {
   "cell_type": "code",
   "execution_count": 62,
   "metadata": {},
   "outputs": [],
   "source": [
    "ax = fig.add_subplot(gs[1, 3:6])\n",
    "vocab_df =pd.read_hdf('/userdata/smetzger/repos/b3_paper/fig2/plot_vocab.h5')\n",
    "vocab_df = vocab_df.loc[vocab_df['Metric'] == 'WER']\n",
    "vocab_df['WER'] = vocab_df['Error rate']"
   ]
  },
  {
   "cell_type": "code",
   "execution_count": 63,
   "metadata": {},
   "outputs": [
    {
     "name": "stdout",
     "output_type": "stream",
     "text": [
      "{1024, 5152, 1506, 11696, 39378, 7763, 17621, 26549, 3419, 2269}\n"
     ]
    },
    {
     "name": "stderr",
     "output_type": "stream",
     "text": [
      "/tmp/ipykernel_384485/2333622159.py:9: MatplotlibDeprecationWarning: The 'b' parameter of grid() has been renamed 'visible' since Matplotlib 3.5; support for the old name will be dropped two minor releases later.\n",
      "  ax.grid(b=True, which='major', axis='y', color='black', linewidth=0.075)\n"
     ]
    },
    {
     "data": {
      "text/plain": [
       "<Figure size 640x480 with 0 Axes>"
      ]
     },
     "metadata": {},
     "output_type": "display_data"
    }
   ],
   "source": [
    "print(set(vocab_df['Vocab size']))\n",
    "\n",
    "# vocab_df = vocab_df.loc[vocab_df['Vocab size'].isin([ 1024, 2000, 5000, 10000, 20000, 36464])]\n",
    "vocab_df['Vocabulary size (words)'] = vocab_df['Vocab size']\n",
    "\n",
    "# vocab_df.to_csv('./source_data/figure_2g.csv')\n",
    "sns.lineplot(x='Vocabulary size (words)', y='WER', data=vocab_df, ax=ax, markers=True, dashes=True, estimator='median', err_style='bars', marker='o')\n",
    "ax.semilogx()\n",
    "ax.grid(b=True, which='major', axis='y', color='black', linewidth=0.075)\n",
    "ax.set_yticks([0, .25, .5, .75, 1.0], [0, 25, 50, 75, 100])\n",
    "ax.set_ylabel('Word error rate')\n",
    "sns.despine()\n",
    "# plt.savefig('./vocab_plot.png', dpi=300)"
   ]
  },
  {
   "cell_type": "code",
   "execution_count": 64,
   "metadata": {},
   "outputs": [],
   "source": [
    "subplotspec = gs[1, 7:]"
   ]
  },
  {
   "cell_type": "markdown",
   "metadata": {},
   "source": [
    "### NATO stabillity"
   ]
  },
  {
   "cell_type": "code",
   "execution_count": 65,
   "metadata": {},
   "outputs": [
    {
     "name": "stderr",
     "output_type": "stream",
     "text": [
      "/tmp/ipykernel_384485/1343185630.py:39: MatplotlibDeprecationWarning: The 'b' parameter of grid() has been renamed 'visible' since Matplotlib 3.5; support for the old name will be dropped two minor releases later.\n",
      "  ax.grid(b=True, which='major', axis='y', alpha=0.2)\n",
      "/tmp/ipykernel_384485/1343185630.py:56: UserWarning: FixedFormatter should only be used together with FixedLocator\n",
      "  ax.set_xticklabels(xticklabels, rotation=45)\n"
     ]
    }
   ],
   "source": [
    "import pandas as pd\n",
    "import matplotlib.pyplot as plt\n",
    "import matplotlib.ticker as plticker\n",
    "\n",
    "# Loading\n",
    "df = pd.read_hdf('./nato.hdf')\n",
    "\n",
    "# df.to_csv('./figure_2h.csv')\n",
    "t = df['Days since implantation'].values\n",
    "y = df['NATO alphabet classification accuracy'].values\n",
    "\n",
    "# Broken-axis simulation adjustment\n",
    "cutoff     = 90\n",
    "adjustment = 50\n",
    "\n",
    "mod_mask = (t >= cutoff)\n",
    "mod_inds = np.where(mod_mask)[0]\n",
    "t_mod = t.copy()\n",
    "t_mod[mod_inds] -= adjustment\n",
    "\n",
    "first_mod_ind = mod_inds[0]\n",
    "broken_midpoint = np.mean([t_mod[first_mod_ind - 1], t_mod[first_mod_ind]])\n",
    "\n",
    "# Plotting\n",
    "ax = fig.add_subplot(gs[1, 6:])\n",
    "ax.plot(t_mod, y, '.', markersize=10, color='k', alpha=0.8)\n",
    "\n",
    "# Formatting\n",
    "ax.spines['top'].set_visible(False)\n",
    "ax.spines['right'].set_visible(False)\n",
    "\n",
    "xlim = (25., 75.)\n",
    "ax.set_xlim(*xlim)\n",
    "ax.set_xlabel('Days after implantation')\n",
    "ax.xaxis.set_major_locator(plticker.MultipleLocator(base=5))\n",
    "\n",
    "ax.set_ylabel('NATO code-word\\nclassification accuracy (%)')\n",
    "ax.set_ylim(0, 103)\n",
    "ax.grid(b=True, which='major', axis='y', alpha=0.2)\n",
    "\n",
    "# Chance accuracy\n",
    "ax.axhline(100. / 30, alpha=0.3, linestyle='--', color='k')\n",
    "ax.text(28, 6, 'Chance\\naccuracy')\n",
    "\n",
    "# Classifier freeze\n",
    "ax.axvline(x=40.5, alpha=0.3, zorder=-2, linestyle='-', color='k')\n",
    "ax.text(40.2, 45, 'Classifier\\nfrozen')\n",
    "\n",
    "# Adjusting x-tick labels for the modification\n",
    "xticks = ax.get_xticks()\n",
    "xticklabels = []\n",
    "for i, cur_x_tick in enumerate(xticks):\n",
    "    if cur_x_tick > broken_midpoint:\n",
    "        cur_x_tick += adjustment\n",
    "    xticklabels.append(str(int(cur_x_tick)))\n",
    "ax.set_xticklabels(xticklabels, rotation=45)\n",
    "\n",
    "# Blocks out portion of the x-axis to mimic a broken axis\n",
    "broken_midpoint_ax_transform = (broken_midpoint - xlim[0]) / (xlim[1] - xlim[0])\n",
    "ax.add_patch(plt.Rectangle(\n",
    "    xy=(broken_midpoint_ax_transform - 0.02, -0.015), width=0.04, height=0.03,\n",
    "    edgecolor=None, facecolor=\"white\", zorder=1e10, clip_on=False, transform=ax.transAxes\n",
    "))\n",
    "\n",
    "# Plots the diagonal lines to mimic a broken axis\n",
    "line_scale = 0.025\n",
    "line_kwargs = dict(lw=1., transform=ax.transAxes, color='k', clip_on=False, zorder=1e10)\n",
    "for cur_shifts in ((-0.027, -0.013), (0.013, 0.027)):\n",
    "    ax.plot(broken_midpoint_ax_transform + np.array(cur_shifts), (-0.02, 0.02), **line_kwargs)"
   ]
  },
  {
   "cell_type": "code",
   "execution_count": 66,
   "metadata": {},
   "outputs": [],
   "source": [
    "d = pd.read_hdf('./nato.hdf')"
   ]
  },
  {
   "cell_type": "code",
   "execution_count": 67,
   "metadata": {},
   "outputs": [
    {
     "data": {
      "text/html": [
       "<div>\n",
       "<style scoped>\n",
       "    .dataframe tbody tr th:only-of-type {\n",
       "        vertical-align: middle;\n",
       "    }\n",
       "\n",
       "    .dataframe tbody tr th {\n",
       "        vertical-align: top;\n",
       "    }\n",
       "\n",
       "    .dataframe thead th {\n",
       "        text-align: right;\n",
       "    }\n",
       "</style>\n",
       "<table border=\"1\" class=\"dataframe\">\n",
       "  <thead>\n",
       "    <tr style=\"text-align: right;\">\n",
       "      <th></th>\n",
       "      <th>Days since implantation</th>\n",
       "      <th>NATO alphabet classification accuracy</th>\n",
       "    </tr>\n",
       "  </thead>\n",
       "  <tbody>\n",
       "    <tr>\n",
       "      <th>0</th>\n",
       "      <td>27</td>\n",
       "      <td>67.307692</td>\n",
       "    </tr>\n",
       "    <tr>\n",
       "      <th>1</th>\n",
       "      <td>28</td>\n",
       "      <td>84.615385</td>\n",
       "    </tr>\n",
       "    <tr>\n",
       "      <th>2</th>\n",
       "      <td>29</td>\n",
       "      <td>61.538462</td>\n",
       "    </tr>\n",
       "    <tr>\n",
       "      <th>3</th>\n",
       "      <td>29</td>\n",
       "      <td>73.076923</td>\n",
       "    </tr>\n",
       "    <tr>\n",
       "      <th>4</th>\n",
       "      <td>30</td>\n",
       "      <td>69.230769</td>\n",
       "    </tr>\n",
       "  </tbody>\n",
       "</table>\n",
       "</div>"
      ],
      "text/plain": [
       "   Days since implantation  NATO alphabet classification accuracy\n",
       "0                       27                              67.307692\n",
       "1                       28                              84.615385\n",
       "2                       29                              61.538462\n",
       "3                       29                              73.076923\n",
       "4                       30                              69.230769"
      ]
     },
     "execution_count": 67,
     "metadata": {},
     "output_type": "execute_result"
    }
   ],
   "source": [
    "d.head()"
   ]
  },
  {
   "cell_type": "code",
   "execution_count": 68,
   "metadata": {},
   "outputs": [],
   "source": [
    "d = d.loc[d['Days since implantation'] > 40]"
   ]
  },
  {
   "cell_type": "code",
   "execution_count": 69,
   "metadata": {},
   "outputs": [
    {
     "data": {
      "text/plain": [
       "96.76113360323887"
      ]
     },
     "execution_count": 69,
     "metadata": {},
     "output_type": "execute_result"
    }
   ],
   "source": [
    "np.mean(d['NATO alphabet classification accuracy'])"
   ]
  },
  {
   "cell_type": "code",
   "execution_count": 70,
   "metadata": {},
   "outputs": [
    {
     "data": {
      "text/plain": [
       "8"
      ]
     },
     "execution_count": 70,
     "metadata": {},
     "output_type": "execute_result"
    }
   ],
   "source": [
    "np.sum(d['NATO alphabet classification accuracy'].values == 100)"
   ]
  },
  {
   "cell_type": "code",
   "execution_count": 71,
   "metadata": {},
   "outputs": [
    {
     "data": {
      "text/plain": [
       "19"
      ]
     },
     "execution_count": 71,
     "metadata": {},
     "output_type": "execute_result"
    }
   ],
   "source": [
    "len(d)"
   ]
  },
  {
   "cell_type": "code",
   "execution_count": 72,
   "metadata": {},
   "outputs": [
    {
     "data": {
      "text/plain": [
       "array([ 1,  1,  1,  1,  1,  1,  1,  1,  1,  1,  1,  1,  3,  1, 61,  0,  1,\n",
       "        2])"
      ]
     },
     "execution_count": 72,
     "metadata": {},
     "output_type": "execute_result"
    }
   ],
   "source": [
    "np.diff(d['Days since implantation'].values)"
   ]
  },
  {
   "cell_type": "code",
   "execution_count": 73,
   "metadata": {},
   "outputs": [
    {
     "name": "stdout",
     "output_type": "stream",
     "text": [
      "[94.73684211 96.7611336  98.3805668 ]\n"
     ]
    }
   ],
   "source": [
    "def bootstrap(x, lengths=None, B=2000, metric=np.mean, multlens=False):\n",
    "#     assert metric == np.mean\n",
    "    dist = []\n",
    "    if lengths is None: \n",
    "        for _ in range(B):\n",
    "            inds = np.random.choice(np.arange(len(x)), size=len(x), replace=True)\n",
    "            x_=x[inds]\n",
    "            dist.append(metric(x_))\n",
    "    else: \n",
    "        for _ in range(B):\n",
    "            inds = np.random.choice(np.arange(len(x)), size=len(x), replace=True)\n",
    "            x_ = x[inds]\n",
    "            ls = lengths[inds]\n",
    "            if multlens: \n",
    "                dist.append(np.sum(x_*ls)/np.sum(ls))\n",
    "            else: \n",
    "                \n",
    "                dist.append(np.sum(x_)/np.sum(ls))\n",
    "    return dist\n",
    "f = d['NATO alphabet classification accuracy'].values\n",
    "print(np.percentile(bootstrap(f, lengths=None, B=2000, metric=np.mean), (.5, 50, 99.5)))"
   ]
  },
  {
   "cell_type": "code",
   "execution_count": 74,
   "metadata": {},
   "outputs": [
    {
     "data": {
      "image/png": "[encoded data removed]",
      "text/plain": [
       "<Figure size 1200x1600 with 7 Axes>"
      ]
     },
     "execution_count": 74,
     "metadata": {},
     "output_type": "execute_result"
    }
   ],
   "source": [
    "fig"
   ]
  },
  {
   "cell_type": "code",
   "execution_count": null,
   "metadata": {},
   "outputs": [],
   "source": []
  }
 ],
 "metadata": {
  "kernelspec": {
   "display_name": "taud",
   "language": "python",
   "name": "taud"
  },
  "language_info": {
   "codemirror_mode": {
    "name": "ipython",
    "version": 3
   },
   "file_extension": ".py",
   "mimetype": "text/x-python",
   "name": "python",
   "nbconvert_exporter": "python",
   "pygments_lexer": "ipython3",
   "version": "3.9.13"
  }
 },
 "nbformat": 4,
 "nbformat_minor": 5
}
